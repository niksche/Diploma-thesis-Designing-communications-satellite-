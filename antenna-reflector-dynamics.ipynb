{
  "nbformat": 4,
  "nbformat_minor": 0,
  "metadata": {
    "colab": {
      "name": "Untitled12.ipynb",
      "provenance": [],
      "collapsed_sections": [],
      "authorship_tag": "ABX9TyP8qzKm3uKfOO1HZg2QgUbX",
      "include_colab_link": true
    },
    "kernelspec": {
      "name": "python3",
      "display_name": "Python 3"
    },
    "language_info": {
      "name": "python"
    }
  },
  "cells": [
    {
      "cell_type": "markdown",
      "metadata": {
        "id": "view-in-github",
        "colab_type": "text"
      },
      "source": [
        "<a href=\"https://colab.research.google.com/github/niksche/Diploma-thesis-Designing-communications-satellite-/blob/master/antenna-reflector-dynamics.ipynb\" target=\"_parent\"><img src=\"https://colab.research.google.com/assets/colab-badge.svg\" alt=\"Open In Colab\"/></a>"
      ]
    },
    {
      "cell_type": "code",
      "source": [
        "M = fillMat(10) * -1\n"
      ],
      "metadata": {
        "id": "Acu8iaou5Jha"
      },
      "execution_count": 105,
      "outputs": []
    },
    {
      "cell_type": "code",
      "execution_count": 26,
      "metadata": {
        "id": "D9wN6bkQbdmE"
      },
      "outputs": [],
      "source": [
        "\n",
        "\n",
        "# def vectorfield(w, t, p):\n",
        "#     \"\"\"\n",
        "#     Defines the differential equations for the system of differential equations.\n",
        "\n",
        "#     Arguments:\n",
        "#         w :  vector of the state variables:\n",
        "#                   w = [x1,z1,x2,z2]\n",
        "#         t :  time\n",
        "#         p :  vector of the parameters:\n",
        "#                   p = [m, mu, k, L]\n",
        "#     \"\"\"\n",
        "#     x1, z1, x2, z2 = w\n",
        "\n",
        "#     # could i just replcae this thing with an indexed version? \n",
        "#     m, mu, k, L = p\n",
        "  \n",
        "#     # Create f = (x1',y1',x2',y2'):\n",
        "#     f = [z1,\n",
        "#          (-mu * z1 -2*k*x1 + k*x2) / m,\n",
        "#          z2,\n",
        "#          (-mu * z2 + k * x1 - k * x2 + k*L)/m\n",
        "#          ]\n",
        "#     return f\n",
        "\n",
        "\n",
        "    "
      ]
    },
    {
      "cell_type": "code",
      "source": [
        "# def vectorfield(w, t, p):\n",
        "#     \"\"\"\n",
        "#     Defines the differential equations for the system of differential equations.\n",
        "\n",
        "#     Arguments:\n",
        "#         w :  vector of the state variables:\n",
        "#                   w = [x1,z1,x2,z2]\n",
        "#         t :  time\n",
        "#         p :  vector of the parameters:\n",
        "#                   p = [m, mu, k, L]\n",
        "#     \"\"\"\n",
        "#     # x1, z1, x2, z2 = w\n",
        "\n",
        "#     # could i just replcae this thing with an indexed version? \n",
        "#     m, mu, k, L = p\n",
        "  \n",
        "#     # Create f = (x1',y1',x2',y2'):\n",
        "#     f = [w[1],\n",
        "#          (-mu * w[1] -2*k*w[0] + k*w[2]) / m,\n",
        "#          w[3],\n",
        "#          (-mu * w[3] + k * w[0] - k * w[2] + k*L)/m\n",
        "#          ]\n",
        "#     return f"
      ],
      "metadata": {
        "id": "v3pbq74KjAgr"
      },
      "execution_count": 28,
      "outputs": []
    },
    {
      "cell_type": "code",
      "source": [
        "def vectorfield2(w, t, p, M):\n",
        "    # M = [[-2.,  1.],\n",
        "    #    [ 1., -1.]]\n",
        "\n",
        "    # xes = [w[0], w[2]]\n",
        "    xes = []\n",
        "    for id, x in enumerate(w):\n",
        "      if (id % 2) == 0: \n",
        "        xes.append(x)\n",
        "    \"\"\"\n",
        "    Defines the differential equations for the system of differential equations.\n",
        "\n",
        "    Arguments:\n",
        "        w :  vector of the state variables:\n",
        "                  w = [x1,z1,x2,z2]\n",
        "        t :  time\n",
        "        p :  vector of the parameters:\n",
        "                  p = [m, mu, k, L]\n",
        "    \"\"\"\n",
        "    # x1, z1, x2, z2 = w\n",
        "\n",
        "    # could i just replcae this thing with an indexed version? \n",
        "    m, mu, k, L = p\n",
        "    n = len(w)\n",
        "\n",
        "    resV = []\n",
        "\n",
        "    for id, el in enumerate(range(n)):\n",
        "      # calculate for the last one is kinda tricky: \n",
        "      if (id % 2) == 0:\n",
        "        # print(\"w\" + str(id + 1))\n",
        "        resV.append(w[id+1])\n",
        "      else:\n",
        "        i = (id -1)/ 2 if ((id -1)/ 2 > 0) else 0\n",
        "        # coef = 2 * W0 / (m * L ** 2)\n",
        "        # print(M[int(i)], xes)\n",
        "#       here we have x * m[i]\n",
        "        # print(\"K is \", k)\n",
        "        # print(\"M is \", M[int(i)], \"xes is\", xes)\n",
        "        # M1 = M * -1\n",
        "        isLast = 0\n",
        "        if (id == (n-1)):\n",
        "          isLast = k*L\n",
        "        a = np.matmul(M[int(i)], xes)\n",
        "        # print(\"-mu * w[id] + k * np.matmul(M[int(i)], xes)\", \"id = \", id, \"i = \", i, \"M[int(i) is \", M[int(i)]) \n",
        "        resV.append( (-mu * w[id] + k * a + isLast)/m)\n",
        "    f1 = resV\n",
        "    # Create f = (x1',y1',x2',y2'):\n",
        "    # f = [w[1],\n",
        "    #      (-mu * w[1] -2*k*w[0] + k*w[2]) / m,\n",
        "    #      w[3],\n",
        "    #      (-mu * w[3] + k * w[0] - k * w[2] + k*L)/m\n",
        "    #      ]\n",
        "    return f1"
      ],
      "metadata": {
        "id": "ARWVKxMkbglD"
      },
      "execution_count": 35,
      "outputs": []
    },
    {
      "cell_type": "code",
      "source": [
        "import numpy as np\n",
        "\n",
        "def coefficient(i, j):\n",
        "  c = 0;\n",
        "  l = abs(i - j)\n",
        "  if l == 0: \n",
        "    c = 2\n",
        "  if l == 1: \n",
        "    c = (-1);\n",
        "  return c;\n",
        "\n",
        "def fillMat(shapeDimentions):\n",
        "  a = np.zeros(shape=(shapeDimentions,shapeDimentions))\n",
        "  for idx, x in np.ndenumerate(a):\n",
        "    for idy, y in np.ndenumerate(x):\n",
        "      a[idx[0], idx[1]] = coefficient(idx[0], idx[1])\n",
        "\n",
        "  a[a.shape[0] -1][ a.shape[1] -1] = 1\n",
        "  return a\n"
      ],
      "metadata": {
        "id": "kjMG7BrijSHb"
      },
      "execution_count": 31,
      "outputs": []
    },
    {
      "cell_type": "code",
      "source": [
        ""
      ],
      "metadata": {
        "id": "ddXt2g6IjUaR"
      },
      "execution_count": 31,
      "outputs": []
    },
    {
      "cell_type": "code",
      "source": [
        "# Use ODEINT to solve the differential equations defined by the vector field\n",
        "from scipy.integrate import odeint\n",
        "\n",
        "# Parameter values\n",
        "# Masses:\n",
        "m = 0.5\n",
        "\n",
        "\n",
        "# Natural lengths\n",
        "L = 1\n",
        "\n",
        "\n",
        "# Spring coefficients\n",
        "k = 1\n",
        "\n",
        "W0 = 1\n",
        "\n",
        "k = 2 * W0 / L**2\n",
        "\n",
        "# Friction coefficients\n",
        "mu = 0.2\n",
        "# Initial conditions\n",
        "# x1 and x2 are the initial displacements; z1 and z2 are the initial velocities\n",
        "x1 = 0.0\n",
        "z1 = 0.0\n",
        "x2 = 0.2\n",
        "z2 = 0.0\n",
        "\n",
        "\n",
        "# ODE solver parameters\n",
        "abserr = 1.0e-8\n",
        "relerr = 1.0e-6\n",
        "stoptime = 20.0\n",
        "numpoints = 1000\n",
        "\n",
        "# Create the time samples for the output of the ODE solver.\n",
        "# I use a large number of points, only because I want to make\n",
        "# a plot of the solution that looks nice.\n",
        "t = [stoptime * float(i) / (numpoints - 1) for i in range(numpoints)]\n",
        "\n",
        "# Pack up the parameters and initial conditions:\n",
        "p = [m, mu, k, L]\n",
        "# w0 = [x1, z1, x2, z2]\n",
        "\n",
        "w0 = []\n",
        "# print(max(xes) if len(xes) > 0 else 0)\n",
        "n = 10\n",
        "for i in range(n):\n",
        "  xi = max(w0) + 0.1 if len(w0) > 0 else 0\n",
        "  w0.append(xi)\n",
        "  w0.append(0)\n",
        "\n",
        "# Call the ODE solver.\n",
        "wsol = odeint(vectorfield2, w0, t, args=(p,M),\n",
        "              atol=abserr, rtol=relerr)\n",
        "\n",
        "with open('reflector-dynamics.dat', 'w') as f:\n",
        "    # Print & save the solution.\n",
        "    for t1, w1 in zip(t, wsol):\n",
        "        print(t1, end=\" \", file=f)\n",
        "        for wi in w1: \n",
        "          print(wi, end=\" \",file=f)\n",
        "        print(\"\",file=f)\n",
        "        # print(t1, w1[0], w1[1], w1[2], w1[3], w1[4], w1[5], w1[6], w1[7], w1[8], w1[9])\n",
        "        # print(t1, w1[0], w1[1], w1[2], w1[3], w1[4], w1[5], w1[6], w1[7], w1[8], w1[9], file=f)"
      ],
      "metadata": {
        "id": "Sg7Eu2K3bjeN"
      },
      "execution_count": 81,
      "outputs": []
    },
    {
      "cell_type": "code",
      "source": [
        "from numpy import loadtxt\n",
        "import matplotlib.pyplot as plt\n",
        "from matplotlib.font_manager import FontProperties\n",
        "\n",
        "# t, x1, z1, x2, z2, *zres = loadtxt('reflector-dynamics.dat', unpack=True)\n",
        "t, *zres = loadtxt('reflector-dynamics.dat', unpack=True)\n",
        "\n",
        "xes = []\n",
        "zes = []\n",
        "\n",
        "\n",
        "for id, el in enumerate(zres):\n",
        "  if (id % 2 ) == 0: \n",
        "    xes.append(el)\n",
        "  else: \n",
        "    zes.append(el)\n",
        "    \n",
        "# x1 = xes[0]\n",
        "# z1 = zes[0]\n",
        "# x2 = xes[1]\n",
        "# z2 = zes[1]\n",
        "\n",
        "plt.figure(1, figsize=(6, 4.5))\n",
        "\n",
        "plt.xlabel('t')\n",
        "plt.grid(True)\n",
        "# plt.hold(True)\n",
        "lw = 1\n",
        "\n",
        "for id, x in enumerate(xes):\n",
        "  color = 'b' if (id % 2) == 0 else 'g'\n",
        "  plt.plot(t, x, color, linewidth=lw)\n",
        "\n",
        "\n",
        "plt.legend((r'$x_1$', r'$x_4$'), prop=FontProperties(size=16))\n",
        "plt.title('Node`s coordinate during antenna-deploy\\nDeployable antenna-reflector')\n",
        "plt.savefig('reflector\\`s_coordinates.png', dpi=100)\n",
        "\n",
        "\n"
      ],
      "metadata": {
        "colab": {
          "base_uri": "https://localhost:8080/",
          "height": 338
        },
        "id": "B4FdUzeNbrBr",
        "outputId": "e2cd4b1a-c50a-4929-9874-e8d2ecbf150f"
      },
      "execution_count": 82,
      "outputs": [
        {
          "output_type": "display_data",
          "data": {
            "text/plain": [
              "<Figure size 432x324 with 1 Axes>"
            ],
            "image/png": "[encoded data removed]"
          },
          "metadata": {
            "needs_background": "light"
          }
        }
      ]
    },
    {
      "cell_type": "code",
      "source": [
        "\n",
        "plt.figure(1, figsize=(6, 4.5))\n",
        "\n",
        "plt.xlabel('t')\n",
        "plt.grid(True)\n",
        "# plt.hold(True)\n",
        "lw = 1\n",
        "\n",
        "\n",
        "for id, z in enumerate(zes):\n",
        "  color = 'b' if (id % 2) == 0 else 'g'\n",
        "  plt.plot(t, z, color, linewidth=lw)\n",
        "\n",
        "\n",
        "# plt.plot(t, zes[1], 'g', linewidth=lw)\n",
        "\n",
        "plt.legend((r'$v_1$', r'$v_2$'), prop=FontProperties(size=16))\n",
        "plt.title('Node`s velocities during antenna-deploy\\nDeployable antenna-reflector')\n",
        "plt.savefig('reflector\\`s_velocities.png', dpi=100)\n"
      ],
      "metadata": {
        "colab": {
          "base_uri": "https://localhost:8080/",
          "height": 338
        },
        "id": "-QcmXzfBbuV_",
        "outputId": "d13e38b1-119e-4941-b527-a6706e17c53a"
      },
      "execution_count": 83,
      "outputs": [
        {
          "output_type": "display_data",
          "data": {
            "text/plain": [
              "<Figure size 432x324 with 1 Axes>"
            ],
            "image/png": "[encoded data removed]"
          },
          "metadata": {
            "needs_background": "light"
          }
        }
      ]
    },
    {
      "cell_type": "code",
      "source": [
        "import matplotlib.animation as animation\n",
        "# Plot the solution that was generated\n",
        "!pip install matplotlib"
      ],
      "metadata": {
        "colab": {
          "base_uri": "https://localhost:8080/"
        },
        "id": "b1A77n_GbwnQ",
        "outputId": "0618edb7-5104-4ab0-ceae-e913f4c65a75"
      },
      "execution_count": 51,
      "outputs": [
        {
          "output_type": "stream",
          "name": "stdout",
          "text": [
            "Looking in indexes: https://pypi.org/simple, https://us-python.pkg.dev/colab-wheels/public/simple/\n",
            "Requirement already satisfied: matplotlib in /usr/local/lib/python3.7/dist-packages (3.2.2)\n",
            "Requirement already satisfied: python-dateutil>=2.1 in /usr/local/lib/python3.7/dist-packages (from matplotlib) (2.8.2)\n",
            "Requirement already satisfied: numpy>=1.11 in /usr/local/lib/python3.7/dist-packages (from matplotlib) (1.21.6)\n",
            "Requirement already satisfied: pyparsing!=2.0.4,!=2.1.2,!=2.1.6,>=2.0.1 in /usr/local/lib/python3.7/dist-packages (from matplotlib) (3.0.9)\n",
            "Requirement already satisfied: kiwisolver>=1.0.1 in /usr/local/lib/python3.7/dist-packages (from matplotlib) (1.4.2)\n",
            "Requirement already satisfied: cycler>=0.10 in /usr/local/lib/python3.7/dist-packages (from matplotlib) (0.11.0)\n",
            "Requirement already satisfied: typing-extensions in /usr/local/lib/python3.7/dist-packages (from kiwisolver>=1.0.1->matplotlib) (4.2.0)\n",
            "Requirement already satisfied: six>=1.5 in /usr/local/lib/python3.7/dist-packages (from python-dateutil>=2.1->matplotlib) (1.15.0)\n"
          ]
        }
      ]
    },
    {
      "cell_type": "code",
      "source": [
        "from matplotlib import rc\n",
        "rc('animation', html='jshtml')\n",
        "# rc('animation', embed_limit= 2 ** 128 )\n",
        "\n",
        "# rc('animation', html='html5')\n",
        "# rcParams['animation.html'] = 'jshtml'\n",
        "# rcParams[\"animation.embed_limit\"] = 2 * 128\n",
        "\n",
        "\n"
      ],
      "metadata": {
        "id": "W_5bsnBXby_w"
      },
      "execution_count": 95,
      "outputs": []
    },
    {
      "cell_type": "code",
      "source": [
        "print(zres[4])\n"
      ],
      "metadata": {
        "id": "pX1VMGKBTSE5"
      },
      "execution_count": null,
      "outputs": []
    },
    {
      "cell_type": "code",
      "source": [
        "def middle(left, right):\n",
        "    c = L / 2 \n",
        "    halfOfLength = (right[0]-left[0])/2 if ((right[0]-left[0])/2 < c) else c #  a\n",
        "    xMiddle = halfOfLength + left[0]\n",
        "    yMiddle = (c ** 2 - halfOfLength ** 2 ) ** 0.5\n",
        "    return [xMiddle, -yMiddle]\n",
        "\n"
      ],
      "metadata": {
        "id": "Bd2i2l7INXyn"
      },
      "execution_count": 86,
      "outputs": []
    },
    {
      "cell_type": "code",
      "source": [
        "def initialPlot(xes, amount):\n",
        "    xNodes = [0]\n",
        "\n",
        "    yNodes = [0]\n",
        "\n",
        "    middleInitial = middle([0,0], [xes[0][0], 0])\n",
        "    xNodes.append(middleInitial[0])\n",
        "    yNodes.append(middleInitial[1])\n",
        "\n",
        "    nra = amount\n",
        "\n",
        "    for i in range(nra):\n",
        "      middleAction = middle([xes[i][0],0],[xes[i+1][0],0])\n",
        "      xNodes.append(xes[i][0])\n",
        "      xNodes.append(middleAction[0])\n",
        "      yNodes.append(0)\n",
        "      yNodes.append(middleAction[1])\n",
        "\n",
        "    xNodes.append(xes[nra][0])\n",
        "    yNodes.append(0)\n",
        "\n",
        "    return [xNodes, yNodes]\n",
        "\n",
        "def anime_0(xes, amount, idx):\n",
        "    xNodes = [0]\n",
        "\n",
        "    yNodes = [0]\n",
        "\n",
        "    middleInitial = middle([0,0], [xes[0][idx], 0])\n",
        "    xNodes.append(middleInitial[0])\n",
        "    yNodes.append(middleInitial[1])\n",
        "\n",
        "    nra = amount\n",
        "\n",
        "    for i in range(nra):\n",
        "      middleAction = middle([xes[i][idx],0],[xes[i+1][idx],0])\n",
        "      xNodes.append(xes[i][idx])\n",
        "      xNodes.append(middleAction[0])\n",
        "      yNodes.append(0)\n",
        "      yNodes.append(middleAction[1])\n",
        "\n",
        "    xNodes.append(xes[nra][idx])\n",
        "    yNodes.append(0)\n",
        "\n",
        "    return [xNodes, yNodes]\n",
        "\n",
        "def anime_2(xes, amount, idx):\n",
        "    xNodes = [0]\n",
        "\n",
        "    yNodes = [0]\n",
        "\n",
        "    middleInitial = middle([0,0], [xes[0][idx], 0])\n",
        "    xNodes.append(middleInitial[0])\n",
        "    yNodes.append(middleInitial[1])\n",
        "\n",
        "    nra = amount\n",
        "\n",
        "    for i in range(nra):\n",
        "      middleAction = middle([xes[i][idx],0],[xes[i+1][idx],0])\n",
        "      xNodes.append(xes[i][idx])\n",
        "      xNodes.append(middleAction[0])\n",
        "      yNodes.append(0)\n",
        "      yNodes.append(middleAction[1])\n",
        "\n",
        "    xNodes.append(xes[nra][idx])\n",
        "    yNodes.append(0)\n",
        "\n",
        "    yNodes = [yx - 1 for yx in yNodes]\n",
        "\n",
        "    return [xNodes, yNodes]\n"
      ],
      "metadata": {
        "id": "N6E82aSrL89V"
      },
      "execution_count": 97,
      "outputs": []
    },
    {
      "cell_type": "code",
      "source": [
        "nodesAmount = 8\n",
        "# animation.rcParams[\"animation.embed_limit\"] = 2 ** 128\n",
        "\n",
        "a = initialPlot(xes, nodesAmount)\n",
        "\n",
        "lowerA = [ix -1 for ix in a[1] ]\n",
        "\n",
        "b = a\n",
        "\n",
        "b[1] = lowerA\n",
        "\n",
        "# figure(figsize=(8, 6), dpi=80)\n",
        "\n",
        "fig = plt.figure(figsize=(20, 13))\n",
        "ax = plt.axes(xlim=(-1, 10), ylim=(-5, 6))\n",
        "\n",
        "innerY = []\n",
        "for i, el in enumerate(a[1]):\n",
        "  if (i % 2) == 0: \n",
        "    innerY.append(a[1][i])\n",
        "  else: \n",
        "    innerY.append(b[1][i])\n",
        "\n",
        "InnerLine = [a[0], innerY]\n",
        "\n",
        "line, = ax.plot( a[0], a[1] ,'bo-')\n",
        "line2, = ax.plot( b[0], b[1] ,'bo-')\n",
        "line3, = ax.plot(InnerLine[0], InnerLine[1], 'bo-')\n",
        "\n",
        "def middle(left, right):\n",
        "    c = L / 2 \n",
        "    halfOfLength = (right[0]-left[0])/2 if ((right[0]-left[0])/2 < c) else c #  a\n",
        "    xMiddle = halfOfLength + left[0]\n",
        "    yMiddle = (c ** 2 - halfOfLength ** 2 ) ** 0.5\n",
        "    # middleY = \n",
        "    return [xMiddle, -yMiddle]\n",
        "\n",
        "def init():\n",
        "    line.set_data( a[0], a[1])\n",
        "    line2.set_data(a[0], a[1])\n",
        "    line3.set_data(InnerLine[0], InnerLine[1])\n",
        "    return line, line2, line3\n",
        "\n",
        "init()\n",
        "\n",
        "def anime(i): \n",
        "  return anime_0(xes, nodesAmount, i)\n",
        "  \n",
        "def anime2(i): \n",
        "  return anime_2(xes, nodesAmount, i)\n",
        "\n",
        "def animate(i):\n",
        "\n",
        "    gg = anime(i)\n",
        "    gg2 = anime2(i)\n",
        "\n",
        "    innerY = []\n",
        "    for i, el in enumerate(gg[1]):\n",
        "      if (i % 2) == 0: \n",
        "        innerY.append(gg[1][i])\n",
        "      else: \n",
        "        innerY.append(gg2[1][i])\n",
        "\n",
        "    InnerLine = [gg[0], innerY]\n",
        "\n",
        "\n",
        "    line.set_data(gg[0], gg[1])\n",
        "    line2.set_data(gg2[0], gg2[1])\n",
        "    line3.set_data(InnerLine[0], InnerLine[1])\n",
        "\n",
        "    return line, line2, line3\n",
        "\n",
        "anim = animation.FuncAnimation(fig, animate, init_func=init,\n",
        "                               frames=900, interval=1, blit=True)\n",
        "\n",
        "\n",
        "anim\n"
      ],
      "metadata": {
        "id": "R5qXaAA_Qicf"
      },
      "execution_count": null,
      "outputs": []
    }
  ]
}